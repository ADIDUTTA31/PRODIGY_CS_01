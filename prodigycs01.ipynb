{
 "cells": [
  {
   "cell_type": "code",
   "execution_count": 1,
   "id": "f33e4e8c-b8a1-406b-89b4-681c8fc8117c",
   "metadata": {},
   "outputs": [
    {
     "name": "stdin",
     "output_type": "stream",
     "text": [
      "Enter the plain text:  I am good\n",
      "Enter the shift:  6\n"
     ]
    },
    {
     "name": "stdout",
     "output_type": "stream",
     "text": [
      "Encrypted:  O gs muuj\n",
      "Decrypted:  I am good\n"
     ]
    }
   ],
   "source": [
    "\n",
    "def caesar_cipher(text, shift):\n",
    "    result = ''\n",
    "    for char in text:\n",
    "        if char.isalpha():\n",
    "            if char.isupper():\n",
    "                result += chr((ord(char) - 65 + shift) % 26 + 65)\n",
    "            else:\n",
    "                result += chr((ord(char) - 97 + shift) % 26 + 97)\n",
    "        else:\n",
    "            result += char\n",
    "    return result\n",
    "\n",
    "plaintext = input(\"Enter the plain text: \")\n",
    "shift = int(input(\"Enter the shift: \"))\n",
    "\n",
    "encrypted_text = caesar_cipher(plaintext, shift)\n",
    "print(\"Encrypted: \", encrypted_text)\n",
    "\n",
    "decrypted_text = caesar_cipher(encrypted_text, -shift)\n",
    "print(\"Decrypted: \", decrypted_text)"
   ]
  },
  {
   "cell_type": "code",
   "execution_count": null,
   "id": "96957d34-f399-4d6b-8b58-9130e762c9e0",
   "metadata": {},
   "outputs": [],
   "source": []
  }
 ],
 "metadata": {
  "kernelspec": {
   "display_name": "Python [conda env:base] *",
   "language": "python",
   "name": "conda-base-py"
  },
  "language_info": {
   "codemirror_mode": {
    "name": "ipython",
    "version": 3
   },
   "file_extension": ".py",
   "mimetype": "text/x-python",
   "name": "python",
   "nbconvert_exporter": "python",
   "pygments_lexer": "ipython3",
   "version": "3.12.7"
  }
 },
 "nbformat": 4,
 "nbformat_minor": 5
}
